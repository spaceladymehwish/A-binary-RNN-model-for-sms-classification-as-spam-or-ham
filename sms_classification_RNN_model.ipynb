{
 "cells": [
  {
   "cell_type": "code",
   "execution_count": 1,
   "metadata": {},
   "outputs": [
    {
     "name": "stdout",
     "output_type": "stream",
     "text": [
      "WARNING:tensorflow:From c:\\Users\\saturn\\miniconda3\\envs\\deep_learning_course\\Lib\\site-packages\\keras\\src\\losses.py:2976: The name tf.losses.sparse_softmax_cross_entropy is deprecated. Please use tf.compat.v1.losses.sparse_softmax_cross_entropy instead.\n",
      "\n"
     ]
    }
   ],
   "source": [
    "#importing libraries \n",
    "import numpy as np\n",
    "import pandas as pd\n",
    "import tensorflow as tf\n",
    "from tensorflow.keras.preprocessing.text import Tokenizer\n",
    "from tensorflow.keras.preprocessing.sequence import pad_sequences\n",
    "from tensorflow.keras.models import Sequential\n",
    "from tensorflow.keras.layers import Embedding, LSTM, Dense\n",
    "import nltk\n",
    "from nltk.corpus import stopwords\n",
    "from tensorflow.keras.preprocessing.text import Tokenizer\n",
    "from tensorflow.keras.preprocessing.sequence import pad_sequences\n",
    "import seaborn as sns\n",
    "import matplotlib.pyplot as plt\n",
    "from sklearn.metrics import confusion_matrix\n"
   ]
  },
  {
   "cell_type": "code",
   "execution_count": 2,
   "metadata": {},
   "outputs": [
    {
     "name": "stdout",
     "output_type": "stream",
     "text": [
      "      label                                               text\n",
      "0         0  They said ü dun haf passport or smth like dat....\n",
      "1         0  Multiply the numbers independently and count d...\n",
      "2         0  Have a lovely night and when you wake up to se...\n",
      "3         0                                       Ard 4 lor...\n",
      "4         0  You are right. Meanwhile how's project twins c...\n",
      "...     ...                                                ...\n",
      "2468      1  Want explicit SEX in 30 secs? Ring 02073162414...\n",
      "2469      1  ASKED 3MOBILE IF 0870 CHATLINES INCLU IN FREE ...\n",
      "2470      1  Had your contract mobile 11 Mnths? Latest Moto...\n",
      "2471      1  REMINDER FROM O2: To get 2.50 pounds free call...\n",
      "2472      1  This is the 2nd time we have tried 2 contact u...\n",
      "\n",
      "[2473 rows x 2 columns]\n"
     ]
    }
   ],
   "source": [
    "# Load the dataset\n",
    "df = pd.read_csv('spam.csv')\n",
    "\n",
    "# Display the dataset\n",
    "print(df)\n"
   ]
  },
  {
   "cell_type": "code",
   "execution_count": 3,
   "metadata": {},
   "outputs": [
    {
     "data": {
      "text/plain": [
       "array([[   0,    0,    0, ...,   20,  686,  291],\n",
       "       [   0,    0,    0, ...,    3, 2925,    2],\n",
       "       [   0,    0,    0, ...,    4,  162,  279],\n",
       "       ...,\n",
       "       [   0,    0,    0, ...,  867,   30, 1193],\n",
       "       [   0,    0,    0, ...,   35,   10, 1796],\n",
       "       [   0,    0,    0, ...,  284,  315,  220]])"
      ]
     },
     "execution_count": 3,
     "metadata": {},
     "output_type": "execute_result"
    }
   ],
   "source": [
    "# Convert text to lowercase\n",
    "df['text'] = df['text'].str.lower()\n",
    "\n",
    "# Tokenize the text\n",
    "tokenizer = Tokenizer()\n",
    "tokenizer.fit_on_texts(df['text'])\n",
    "sequences = tokenizer.texts_to_sequences(df['text'])\n",
    "\n",
    "# Remove stop words\n",
    "stop_words = set(stopwords.words('english'))\n",
    "sequences = [[word for word in sequence if word not in stop_words] for sequence in sequences]\n",
    "\n",
    "# Pad sequences\n",
    "sequences = pad_sequences(sequences)\n",
    "\n",
    "# Update the 'sequences' variable with the preprocessed sequences\n",
    "sequences\n",
    "\n"
   ]
  },
  {
   "cell_type": "code",
   "execution_count": 4,
   "metadata": {},
   "outputs": [
    {
     "name": "stdout",
     "output_type": "stream",
     "text": [
      "WARNING:tensorflow:From c:\\Users\\saturn\\miniconda3\\envs\\deep_learning_course\\Lib\\site-packages\\keras\\src\\backend.py:873: The name tf.get_default_graph is deprecated. Please use tf.compat.v1.get_default_graph instead.\n",
      "\n",
      "WARNING:tensorflow:From c:\\Users\\saturn\\miniconda3\\envs\\deep_learning_course\\Lib\\site-packages\\keras\\src\\optimizers\\__init__.py:309: The name tf.train.Optimizer is deprecated. Please use tf.compat.v1.train.Optimizer instead.\n",
      "\n",
      "Epoch 1/10\n",
      "WARNING:tensorflow:From c:\\Users\\saturn\\miniconda3\\envs\\deep_learning_course\\Lib\\site-packages\\keras\\src\\utils\\tf_utils.py:492: The name tf.ragged.RaggedTensorValue is deprecated. Please use tf.compat.v1.ragged.RaggedTensorValue instead.\n",
      "\n",
      "WARNING:tensorflow:From c:\\Users\\saturn\\miniconda3\\envs\\deep_learning_course\\Lib\\site-packages\\keras\\src\\engine\\base_layer_utils.py:384: The name tf.executing_eagerly_outside_functions is deprecated. Please use tf.compat.v1.executing_eagerly_outside_functions instead.\n",
      "\n",
      "62/62 [==============================] - 34s 322ms/step - loss: 0.3345 - accuracy: 0.8529 - val_loss: 0.1083 - val_accuracy: 0.9697\n",
      "Epoch 2/10\n",
      "62/62 [==============================] - 14s 231ms/step - loss: 0.0678 - accuracy: 0.9813 - val_loss: 0.0682 - val_accuracy: 0.9778\n",
      "Epoch 3/10\n",
      "62/62 [==============================] - 15s 248ms/step - loss: 0.0274 - accuracy: 0.9919 - val_loss: 0.0751 - val_accuracy: 0.9778\n",
      "Epoch 4/10\n",
      "62/62 [==============================] - 14s 230ms/step - loss: 0.0116 - accuracy: 0.9970 - val_loss: 0.0984 - val_accuracy: 0.9737\n",
      "Epoch 5/10\n",
      "62/62 [==============================] - 16s 255ms/step - loss: 0.0082 - accuracy: 0.9975 - val_loss: 0.1005 - val_accuracy: 0.9737\n",
      "Epoch 6/10\n",
      "62/62 [==============================] - 15s 235ms/step - loss: 0.0044 - accuracy: 0.9990 - val_loss: 0.1186 - val_accuracy: 0.9737\n",
      "Epoch 7/10\n",
      "62/62 [==============================] - 17s 266ms/step - loss: 0.0027 - accuracy: 0.9995 - val_loss: 0.1200 - val_accuracy: 0.9758\n",
      "Epoch 8/10\n",
      "62/62 [==============================] - 16s 263ms/step - loss: 0.0014 - accuracy: 1.0000 - val_loss: 0.1464 - val_accuracy: 0.9737\n",
      "Epoch 9/10\n",
      "62/62 [==============================] - 11s 182ms/step - loss: 0.0012 - accuracy: 1.0000 - val_loss: 0.1486 - val_accuracy: 0.9717\n",
      "Epoch 10/10\n",
      "62/62 [==============================] - 8s 134ms/step - loss: 8.8281e-04 - accuracy: 1.0000 - val_loss: 0.1581 - val_accuracy: 0.9717\n",
      "16/16 [==============================] - 2s 61ms/step\n"
     ]
    }
   ],
   "source": [
    "# Split the preprocessed sequences into input (X) and output (y) data\n",
    "X = sequences\n",
    "y = df['label'].values\n",
    "\n",
    "# Split the data into training and testing sets\n",
    "from sklearn.model_selection import train_test_split\n",
    "X_train, X_test, y_train, y_test = train_test_split(X, y, test_size=0.2, random_state=42)\n",
    "\n",
    "# Create the LSTM model\n",
    "model = Sequential()\n",
    "\n",
    "# Add an Embedding layer\n",
    "model.add(Embedding(input_dim=len(tokenizer.word_index)+1, output_dim=100, input_length=X_train.shape[1]))\n",
    "\n",
    "# Add an LSTM layer\n",
    "model.add(LSTM(units=128))\n",
    "\n",
    "# Add a Dense layer\n",
    "model.add(Dense(units=1, activation='sigmoid'))\n",
    "\n",
    "# Compile the model\n",
    "model.compile(loss='binary_crossentropy', optimizer='adam', metrics=['accuracy'])\n",
    "\n",
    "# Train the model\n",
    "model.fit(X_train, y_train, validation_data=(X_test, y_test), epochs=10, batch_size=32)\n",
    "\n",
    "# Make predictions\n",
    "predictions = model.predict(X_test)\n"
   ]
  },
  {
   "cell_type": "code",
   "execution_count": 7,
   "metadata": {},
   "outputs": [
    {
     "name": "stdout",
     "output_type": "stream",
     "text": [
      "16/16 [==============================] - 1s 60ms/step - loss: 0.1581 - accuracy: 0.9717\n",
      "Test Loss: 0.1581340730190277\n",
      "Test Accuracy: 0.9717171788215637\n"
     ]
    }
   ],
   "source": [
    "# Evaluate the model\n",
    "loss, accuracy = model.evaluate(X_test, y_test)\n",
    "print('Test Loss:', loss)\n",
    "print('Test Accuracy:', accuracy)"
   ]
  },
  {
   "cell_type": "code",
   "execution_count": 8,
   "metadata": {},
   "outputs": [
    {
     "data": {
      "image/png": "[encoded data removed]",
      "text/plain": [
       "<Figure size 640x480 with 2 Axes>"
      ]
     },
     "metadata": {},
     "output_type": "display_data"
    }
   ],
   "source": [
    "# Calculate the confusion matrix\n",
    "cm = confusion_matrix(y_test, predictions.round())\n",
    "\n",
    "# Plot the confusion matrix\n",
    "sns.heatmap(cm, annot=True, fmt='d', cmap='Blues')\n",
    "plt.xlabel('Predicted')\n",
    "plt.ylabel('Actual')\n",
    "plt.title('Confusion Matrix')\n",
    "plt.show()"
   ]
  }
 ],
 "metadata": {
  "kernelspec": {
   "display_name": "deep_learning_course",
   "language": "python",
   "name": "python3"
  },
  "language_info": {
   "codemirror_mode": {
    "name": "ipython",
    "version": 3
   },
   "file_extension": ".py",
   "mimetype": "text/x-python",
   "name": "python",
   "nbconvert_exporter": "python",
   "pygments_lexer": "ipython3",
   "version": "3.11.7"
  }
 },
 "nbformat": 4,
 "nbformat_minor": 2
}
